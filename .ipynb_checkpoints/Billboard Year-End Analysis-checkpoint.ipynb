{
 "cells": [
  {
   "cell_type": "markdown",
   "metadata": {},
   "source": [
    "# <center>Exploring Billboard's Hot 100 Year-End Charts (1960-2020) </center>"
   ]
  },
  {
   "cell_type": "markdown",
   "metadata": {},
   "source": [
    "## Brief overview\n",
    "\n",
    "What kind of songs and artists are there on the Billboard? Does popularity play a key role in being ranked on the Billboard charts, as claimed by Billboard themselves? What are some common characteristics of these songs? Any correlations between their characteristics? In this notebook, I will analyze my dataset that I collected and cleaned which contains Billboard's yearly rankings of the most popular songs from 1960-2020.\n",
    "\n",
    "**About Billboard's Hot 100 Charts**\n",
    "\n",
    "The Billboard Hot 100 Year-End Charts is a ranked list of songs for each year. Rankings are determined based on factors such as sales, amount of streams on music streaming services such as Spotify, and how frequently songs are played on radio stations. Each billboard chart year starts and ends around the month of December."
   ]
  },
  {
   "cell_type": "markdown",
   "metadata": {},
   "source": [
    "## Exploratory data analysis outline:\n",
    "\n",
    "    1. Get a high level understanding of the data (shape, columns, data types, etc.)\n",
    "    2. Comparisons of which artists and songs appear most often on Billboard charts\n",
    "    3. Exploring popularity of songs and seeing if that has an influence on being ranked\n",
    "    4. Looking at other characteristics (danceability, energy, etc.) of songs"
   ]
  },
  {
   "cell_type": "markdown",
   "metadata": {},
   "source": [
    "# Part 1: Understanding the data"
   ]
  },
  {
   "cell_type": "markdown",
   "metadata": {},
   "source": [
    "## The data\n",
    "\n",
    "`spotify_complete.csv` contains every song that has appeared on the Billboard Hot 100 Year-end charts. It contains song information such as the artist(s), year appeared on Billboard, ranking, and audio features. The data was pulled on January 7, 2021."
   ]
  },
  {
   "cell_type": "markdown",
   "metadata": {},
   "source": [
    "Column | Definition\n",
    "--- | ---\n",
    "rank | ranking of the song on Billboard\n",
    "title | the name of the song\n",
    "artist | the main artist who performed the song\n",
    "other artists | other artists who performed the song\n",
    "year | year that the song has appeared on the Billboard chart\n",
    "Spotify id | spotify ID of the song\n",
    "Popularity | popularity of the song at the time when data was extracted\n",
    "danceability | how suitable a song is for dancing\n",
    "energy | measure of intensity and activity\n",
    "key | overall key of the song\n",
    "loudness | overall loudness in decibels\n",
    "modality | modality of song (0 = Minor, 1 = Major)\n",
    "speechiness | overall measure of spoken words\n",
    "acousticness | measure of whether the song is acoustic\n",
    "instrumentalness | measure of whether the song contains vocals\n",
    "liveness | probability the song was performed live\n",
    "valence | measure of musical positiveness\n",
    "tempo | overall estimated speed or pace of song in beats per minute\n",
    "duration | how long the song is in seconds\n",
    "time_signature | overall time signature of a song"
   ]
  },
  {
   "cell_type": "markdown",
   "metadata": {},
   "source": [
    "More information on Spotify's audio features: https://developer.spotify.com/documentation/web-api/reference/tracks/get-audio-features/"
   ]
  },
  {
   "cell_type": "markdown",
   "metadata": {},
   "source": [
    "### Importing libraries that we will use:"
   ]
  },
  {
   "cell_type": "code",
   "execution_count": 2,
   "metadata": {},
   "outputs": [],
   "source": [
    "import numpy as np\n",
    "import pandas as pd\n",
    "import matplotlib.pyplot as plt\n",
    "import seaborn as sns"
   ]
  },
  {
   "cell_type": "code",
   "execution_count": 3,
   "metadata": {},
   "outputs": [],
   "source": [
    "# Loading the data\n",
    "df = pd.read_csv('spotify_complete.csv', encoding='ISO-8859-1')\n",
    "df.drop(\"Unnamed: 0\", axis=1, inplace=True) # this is an index column that we already have"
   ]
  },
  {
   "cell_type": "code",
   "execution_count": 30,
   "metadata": {},
   "outputs": [
    {
     "data": {
      "text/plain": [
       "(6098, 20)"
      ]
     },
     "execution_count": 30,
     "metadata": {},
     "output_type": "execute_result"
    }
   ],
   "source": [
    "df.shape"
   ]
  },
  {
   "cell_type": "code",
   "execution_count": 31,
   "metadata": {},
   "outputs": [
    {
     "data": {
      "text/html": [
       "<div>\n",
       "<style scoped>\n",
       "    .dataframe tbody tr th:only-of-type {\n",
       "        vertical-align: middle;\n",
       "    }\n",
       "\n",
       "    .dataframe tbody tr th {\n",
       "        vertical-align: top;\n",
       "    }\n",
       "\n",
       "    .dataframe thead th {\n",
       "        text-align: right;\n",
       "    }\n",
       "</style>\n",
       "<table border=\"1\" class=\"dataframe\">\n",
       "  <thead>\n",
       "    <tr style=\"text-align: right;\">\n",
       "      <th></th>\n",
       "      <th>rank</th>\n",
       "      <th>title</th>\n",
       "      <th>artist</th>\n",
       "      <th>other artists</th>\n",
       "      <th>year</th>\n",
       "      <th>Spotify id</th>\n",
       "      <th>Popularity</th>\n",
       "      <th>danceability</th>\n",
       "      <th>energy</th>\n",
       "      <th>key</th>\n",
       "      <th>loudness</th>\n",
       "      <th>mode</th>\n",
       "      <th>speechiness</th>\n",
       "      <th>acousticness</th>\n",
       "      <th>instrumentalness</th>\n",
       "      <th>liveness</th>\n",
       "      <th>valence</th>\n",
       "      <th>tempo</th>\n",
       "      <th>duration</th>\n",
       "      <th>time_signature</th>\n",
       "    </tr>\n",
       "  </thead>\n",
       "  <tbody>\n",
       "    <tr>\n",
       "      <th>0</th>\n",
       "      <td>1</td>\n",
       "      <td>Theme from A Summer Place</td>\n",
       "      <td>Percy Faith</td>\n",
       "      <td>None</td>\n",
       "      <td>1960</td>\n",
       "      <td>6zwvB879PJSpTyFcg2wwnL</td>\n",
       "      <td>57</td>\n",
       "      <td>0.326</td>\n",
       "      <td>0.3260</td>\n",
       "      <td>0</td>\n",
       "      <td>-15.144</td>\n",
       "      <td>1</td>\n",
       "      <td>0.0297</td>\n",
       "      <td>0.591</td>\n",
       "      <td>0.918000</td>\n",
       "      <td>0.494</td>\n",
       "      <td>0.870</td>\n",
       "      <td>186.232</td>\n",
       "      <td>142.693</td>\n",
       "      <td>3</td>\n",
       "    </tr>\n",
       "    <tr>\n",
       "      <th>1</th>\n",
       "      <td>2</td>\n",
       "      <td>He'll Have to Go</td>\n",
       "      <td>Jim Reeves</td>\n",
       "      <td>None</td>\n",
       "      <td>1960</td>\n",
       "      <td>7dDE59NX0n466e705E8Itz</td>\n",
       "      <td>18</td>\n",
       "      <td>0.469</td>\n",
       "      <td>0.2440</td>\n",
       "      <td>1</td>\n",
       "      <td>-15.702</td>\n",
       "      <td>1</td>\n",
       "      <td>0.0357</td>\n",
       "      <td>0.974</td>\n",
       "      <td>0.016200</td>\n",
       "      <td>0.845</td>\n",
       "      <td>0.577</td>\n",
       "      <td>88.271</td>\n",
       "      <td>134.333</td>\n",
       "      <td>3</td>\n",
       "    </tr>\n",
       "    <tr>\n",
       "      <th>2</th>\n",
       "      <td>3</td>\n",
       "      <td>Cathy's Clown</td>\n",
       "      <td>The Everly Brothers</td>\n",
       "      <td>None</td>\n",
       "      <td>1960</td>\n",
       "      <td>1MA9StLzlFftLbuqOmoWij</td>\n",
       "      <td>52</td>\n",
       "      <td>0.498</td>\n",
       "      <td>0.5820</td>\n",
       "      <td>7</td>\n",
       "      <td>-8.961</td>\n",
       "      <td>1</td>\n",
       "      <td>0.0339</td>\n",
       "      <td>0.412</td>\n",
       "      <td>0.000000</td>\n",
       "      <td>0.372</td>\n",
       "      <td>0.866</td>\n",
       "      <td>119.809</td>\n",
       "      <td>144.013</td>\n",
       "      <td>4</td>\n",
       "    </tr>\n",
       "    <tr>\n",
       "      <th>3</th>\n",
       "      <td>4</td>\n",
       "      <td>Running Bear</td>\n",
       "      <td>Johnny Preston</td>\n",
       "      <td>None</td>\n",
       "      <td>1960</td>\n",
       "      <td>1RYznli2VNO7FCbW1Hq4KM</td>\n",
       "      <td>39</td>\n",
       "      <td>0.772</td>\n",
       "      <td>0.2970</td>\n",
       "      <td>5</td>\n",
       "      <td>-14.679</td>\n",
       "      <td>0</td>\n",
       "      <td>0.0530</td>\n",
       "      <td>0.854</td>\n",
       "      <td>0.000008</td>\n",
       "      <td>0.125</td>\n",
       "      <td>0.822</td>\n",
       "      <td>119.987</td>\n",
       "      <td>158.200</td>\n",
       "      <td>4</td>\n",
       "    </tr>\n",
       "    <tr>\n",
       "      <th>4</th>\n",
       "      <td>5</td>\n",
       "      <td>Teen Angel</td>\n",
       "      <td>Mark Dinning</td>\n",
       "      <td>None</td>\n",
       "      <td>1960</td>\n",
       "      <td>36NPEs4S7ik50NrlzaqoIJ</td>\n",
       "      <td>31</td>\n",
       "      <td>0.570</td>\n",
       "      <td>0.0636</td>\n",
       "      <td>0</td>\n",
       "      <td>-18.548</td>\n",
       "      <td>1</td>\n",
       "      <td>0.0459</td>\n",
       "      <td>0.936</td>\n",
       "      <td>0.000000</td>\n",
       "      <td>0.122</td>\n",
       "      <td>0.282</td>\n",
       "      <td>101.517</td>\n",
       "      <td>159.893</td>\n",
       "      <td>4</td>\n",
       "    </tr>\n",
       "  </tbody>\n",
       "</table>\n",
       "</div>"
      ],
      "text/plain": [
       "  rank                      title               artist other artists  year  \\\n",
       "0    1  Theme from A Summer Place          Percy Faith          None  1960   \n",
       "1    2           He'll Have to Go           Jim Reeves          None  1960   \n",
       "2    3              Cathy's Clown  The Everly Brothers          None  1960   \n",
       "3    4               Running Bear       Johnny Preston          None  1960   \n",
       "4    5                 Teen Angel         Mark Dinning          None  1960   \n",
       "\n",
       "               Spotify id  Popularity  danceability  energy  key  loudness  \\\n",
       "0  6zwvB879PJSpTyFcg2wwnL          57         0.326  0.3260    0   -15.144   \n",
       "1  7dDE59NX0n466e705E8Itz          18         0.469  0.2440    1   -15.702   \n",
       "2  1MA9StLzlFftLbuqOmoWij          52         0.498  0.5820    7    -8.961   \n",
       "3  1RYznli2VNO7FCbW1Hq4KM          39         0.772  0.2970    5   -14.679   \n",
       "4  36NPEs4S7ik50NrlzaqoIJ          31         0.570  0.0636    0   -18.548   \n",
       "\n",
       "   mode  speechiness  acousticness  instrumentalness  liveness  valence  \\\n",
       "0     1       0.0297         0.591          0.918000     0.494    0.870   \n",
       "1     1       0.0357         0.974          0.016200     0.845    0.577   \n",
       "2     1       0.0339         0.412          0.000000     0.372    0.866   \n",
       "3     0       0.0530         0.854          0.000008     0.125    0.822   \n",
       "4     1       0.0459         0.936          0.000000     0.122    0.282   \n",
       "\n",
       "     tempo  duration  time_signature  \n",
       "0  186.232   142.693               3  \n",
       "1   88.271   134.333               3  \n",
       "2  119.809   144.013               4  \n",
       "3  119.987   158.200               4  \n",
       "4  101.517   159.893               4  "
      ]
     },
     "execution_count": 31,
     "metadata": {},
     "output_type": "execute_result"
    }
   ],
   "source": [
    "df.head()"
   ]
  },
  {
   "cell_type": "code",
   "execution_count": 32,
   "metadata": {},
   "outputs": [
    {
     "name": "stdout",
     "output_type": "stream",
     "text": [
      "<class 'pandas.core.frame.DataFrame'>\n",
      "RangeIndex: 6098 entries, 0 to 6097\n",
      "Data columns (total 20 columns):\n",
      " #   Column            Non-Null Count  Dtype  \n",
      "---  ------            --------------  -----  \n",
      " 0   rank              6098 non-null   object \n",
      " 1   title             6098 non-null   object \n",
      " 2   artist            6098 non-null   object \n",
      " 3   other artists     6098 non-null   object \n",
      " 4   year              6098 non-null   int64  \n",
      " 5   Spotify id        6098 non-null   object \n",
      " 6   Popularity        6098 non-null   int64  \n",
      " 7   danceability      6098 non-null   float64\n",
      " 8   energy            6098 non-null   float64\n",
      " 9   key               6098 non-null   int64  \n",
      " 10  loudness          6098 non-null   float64\n",
      " 11  mode              6098 non-null   int64  \n",
      " 12  speechiness       6098 non-null   float64\n",
      " 13  acousticness      6098 non-null   float64\n",
      " 14  instrumentalness  6098 non-null   float64\n",
      " 15  liveness          6098 non-null   float64\n",
      " 16  valence           6098 non-null   float64\n",
      " 17  tempo             6098 non-null   float64\n",
      " 18  duration          6098 non-null   float64\n",
      " 19  time_signature    6098 non-null   int64  \n",
      "dtypes: float64(10), int64(5), object(5)\n",
      "memory usage: 952.9+ KB\n"
     ]
    }
   ],
   "source": [
    "df.info()"
   ]
  },
  {
   "cell_type": "code",
   "execution_count": 33,
   "metadata": {},
   "outputs": [
    {
     "data": {
      "text/html": [
       "<div>\n",
       "<style scoped>\n",
       "    .dataframe tbody tr th:only-of-type {\n",
       "        vertical-align: middle;\n",
       "    }\n",
       "\n",
       "    .dataframe tbody tr th {\n",
       "        vertical-align: top;\n",
       "    }\n",
       "\n",
       "    .dataframe thead th {\n",
       "        text-align: right;\n",
       "    }\n",
       "</style>\n",
       "<table border=\"1\" class=\"dataframe\">\n",
       "  <thead>\n",
       "    <tr style=\"text-align: right;\">\n",
       "      <th></th>\n",
       "      <th>year</th>\n",
       "      <th>Popularity</th>\n",
       "      <th>danceability</th>\n",
       "      <th>energy</th>\n",
       "      <th>key</th>\n",
       "      <th>loudness</th>\n",
       "      <th>mode</th>\n",
       "      <th>speechiness</th>\n",
       "      <th>acousticness</th>\n",
       "      <th>instrumentalness</th>\n",
       "      <th>liveness</th>\n",
       "      <th>valence</th>\n",
       "      <th>tempo</th>\n",
       "      <th>duration</th>\n",
       "      <th>time_signature</th>\n",
       "    </tr>\n",
       "  </thead>\n",
       "  <tbody>\n",
       "    <tr>\n",
       "      <th>count</th>\n",
       "      <td>6098.000000</td>\n",
       "      <td>6098.000000</td>\n",
       "      <td>6098.000000</td>\n",
       "      <td>6098.000000</td>\n",
       "      <td>6098.000000</td>\n",
       "      <td>6098.000000</td>\n",
       "      <td>6098.000000</td>\n",
       "      <td>6098.000000</td>\n",
       "      <td>6098.000000</td>\n",
       "      <td>6098.000000</td>\n",
       "      <td>6098.000000</td>\n",
       "      <td>6098.000000</td>\n",
       "      <td>6098.000000</td>\n",
       "      <td>6098.000000</td>\n",
       "      <td>6098.000000</td>\n",
       "    </tr>\n",
       "    <tr>\n",
       "      <th>mean</th>\n",
       "      <td>1989.998196</td>\n",
       "      <td>57.154477</td>\n",
       "      <td>0.627328</td>\n",
       "      <td>0.620230</td>\n",
       "      <td>5.290095</td>\n",
       "      <td>-8.403208</td>\n",
       "      <td>0.692358</td>\n",
       "      <td>0.072196</td>\n",
       "      <td>0.260426</td>\n",
       "      <td>0.028466</td>\n",
       "      <td>0.178272</td>\n",
       "      <td>0.604125</td>\n",
       "      <td>119.430655</td>\n",
       "      <td>231.916182</td>\n",
       "      <td>3.955395</td>\n",
       "    </tr>\n",
       "    <tr>\n",
       "      <th>std</th>\n",
       "      <td>17.612298</td>\n",
       "      <td>17.294659</td>\n",
       "      <td>0.151422</td>\n",
       "      <td>0.190002</td>\n",
       "      <td>3.589750</td>\n",
       "      <td>3.545482</td>\n",
       "      <td>0.461555</td>\n",
       "      <td>0.077274</td>\n",
       "      <td>0.259243</td>\n",
       "      <td>0.128605</td>\n",
       "      <td>0.149371</td>\n",
       "      <td>0.239647</td>\n",
       "      <td>27.478116</td>\n",
       "      <td>63.693433</td>\n",
       "      <td>0.272839</td>\n",
       "    </tr>\n",
       "    <tr>\n",
       "      <th>min</th>\n",
       "      <td>1960.000000</td>\n",
       "      <td>0.000000</td>\n",
       "      <td>0.000000</td>\n",
       "      <td>0.000020</td>\n",
       "      <td>0.000000</td>\n",
       "      <td>-26.113000</td>\n",
       "      <td>0.000000</td>\n",
       "      <td>0.000000</td>\n",
       "      <td>0.000024</td>\n",
       "      <td>0.000000</td>\n",
       "      <td>0.015000</td>\n",
       "      <td>0.000000</td>\n",
       "      <td>0.000000</td>\n",
       "      <td>29.688000</td>\n",
       "      <td>0.000000</td>\n",
       "    </tr>\n",
       "    <tr>\n",
       "      <th>25%</th>\n",
       "      <td>1975.000000</td>\n",
       "      <td>47.000000</td>\n",
       "      <td>0.532000</td>\n",
       "      <td>0.484000</td>\n",
       "      <td>2.000000</td>\n",
       "      <td>-10.703750</td>\n",
       "      <td>0.000000</td>\n",
       "      <td>0.032200</td>\n",
       "      <td>0.043225</td>\n",
       "      <td>0.000000</td>\n",
       "      <td>0.085700</td>\n",
       "      <td>0.418000</td>\n",
       "      <td>98.942250</td>\n",
       "      <td>193.390250</td>\n",
       "      <td>4.000000</td>\n",
       "    </tr>\n",
       "    <tr>\n",
       "      <th>50%</th>\n",
       "      <td>1990.000000</td>\n",
       "      <td>59.000000</td>\n",
       "      <td>0.642000</td>\n",
       "      <td>0.634000</td>\n",
       "      <td>5.000000</td>\n",
       "      <td>-7.817000</td>\n",
       "      <td>1.000000</td>\n",
       "      <td>0.041800</td>\n",
       "      <td>0.166000</td>\n",
       "      <td>0.000004</td>\n",
       "      <td>0.122000</td>\n",
       "      <td>0.623000</td>\n",
       "      <td>118.029000</td>\n",
       "      <td>228.000000</td>\n",
       "      <td>4.000000</td>\n",
       "    </tr>\n",
       "    <tr>\n",
       "      <th>75%</th>\n",
       "      <td>2005.000000</td>\n",
       "      <td>70.000000</td>\n",
       "      <td>0.734000</td>\n",
       "      <td>0.770000</td>\n",
       "      <td>8.000000</td>\n",
       "      <td>-5.652250</td>\n",
       "      <td>1.000000</td>\n",
       "      <td>0.069300</td>\n",
       "      <td>0.418750</td>\n",
       "      <td>0.000341</td>\n",
       "      <td>0.226000</td>\n",
       "      <td>0.809000</td>\n",
       "      <td>134.185500</td>\n",
       "      <td>261.900250</td>\n",
       "      <td>4.000000</td>\n",
       "    </tr>\n",
       "    <tr>\n",
       "      <th>max</th>\n",
       "      <td>2020.000000</td>\n",
       "      <td>100.000000</td>\n",
       "      <td>0.988000</td>\n",
       "      <td>0.997000</td>\n",
       "      <td>11.000000</td>\n",
       "      <td>-1.101000</td>\n",
       "      <td>1.000000</td>\n",
       "      <td>0.911000</td>\n",
       "      <td>0.991000</td>\n",
       "      <td>0.964000</td>\n",
       "      <td>0.991000</td>\n",
       "      <td>0.991000</td>\n",
       "      <td>233.429000</td>\n",
       "      <td>1561.133000</td>\n",
       "      <td>5.000000</td>\n",
       "    </tr>\n",
       "  </tbody>\n",
       "</table>\n",
       "</div>"
      ],
      "text/plain": [
       "              year   Popularity  danceability       energy          key  \\\n",
       "count  6098.000000  6098.000000   6098.000000  6098.000000  6098.000000   \n",
       "mean   1989.998196    57.154477      0.627328     0.620230     5.290095   \n",
       "std      17.612298    17.294659      0.151422     0.190002     3.589750   \n",
       "min    1960.000000     0.000000      0.000000     0.000020     0.000000   \n",
       "25%    1975.000000    47.000000      0.532000     0.484000     2.000000   \n",
       "50%    1990.000000    59.000000      0.642000     0.634000     5.000000   \n",
       "75%    2005.000000    70.000000      0.734000     0.770000     8.000000   \n",
       "max    2020.000000   100.000000      0.988000     0.997000    11.000000   \n",
       "\n",
       "          loudness         mode  speechiness  acousticness  instrumentalness  \\\n",
       "count  6098.000000  6098.000000  6098.000000   6098.000000       6098.000000   \n",
       "mean     -8.403208     0.692358     0.072196      0.260426          0.028466   \n",
       "std       3.545482     0.461555     0.077274      0.259243          0.128605   \n",
       "min     -26.113000     0.000000     0.000000      0.000024          0.000000   \n",
       "25%     -10.703750     0.000000     0.032200      0.043225          0.000000   \n",
       "50%      -7.817000     1.000000     0.041800      0.166000          0.000004   \n",
       "75%      -5.652250     1.000000     0.069300      0.418750          0.000341   \n",
       "max      -1.101000     1.000000     0.911000      0.991000          0.964000   \n",
       "\n",
       "          liveness      valence        tempo     duration  time_signature  \n",
       "count  6098.000000  6098.000000  6098.000000  6098.000000     6098.000000  \n",
       "mean      0.178272     0.604125   119.430655   231.916182        3.955395  \n",
       "std       0.149371     0.239647    27.478116    63.693433        0.272839  \n",
       "min       0.015000     0.000000     0.000000    29.688000        0.000000  \n",
       "25%       0.085700     0.418000    98.942250   193.390250        4.000000  \n",
       "50%       0.122000     0.623000   118.029000   228.000000        4.000000  \n",
       "75%       0.226000     0.809000   134.185500   261.900250        4.000000  \n",
       "max       0.991000     0.991000   233.429000  1561.133000        5.000000  "
      ]
     },
     "execution_count": 33,
     "metadata": {},
     "output_type": "execute_result"
    }
   ],
   "source": [
    "df.describe()"
   ]
  },
  {
   "cell_type": "markdown",
   "metadata": {},
   "source": [
    "# Part 2: Comparing frequency of songs and artists"
   ]
  },
  {
   "cell_type": "markdown",
   "metadata": {},
   "source": [
    "**Which artists have appeared on the Billboard charts most often?**"
   ]
  },
  {
   "cell_type": "code",
   "execution_count": 34,
   "metadata": {},
   "outputs": [
    {
     "data": {
      "text/plain": [
       "2369"
      ]
     },
     "execution_count": 34,
     "metadata": {},
     "output_type": "execute_result"
    }
   ],
   "source": [
    "# count number of unique, main artists\n",
    "df['artist'].nunique()"
   ]
  },
  {
   "cell_type": "code",
   "execution_count": 244,
   "metadata": {},
   "outputs": [
    {
     "data": {
      "image/png": "[encoded data removed]",
      "text/plain": [
       "<Figure size 1500x600 with 1 Axes>"
      ]
     },
     "metadata": {
      "needs_background": "light"
     },
     "output_type": "display_data"
    }
   ],
   "source": [
    "# horizontal bar chart of top 10 artists\n",
    "plt.figure(figsize=(10,4),dpi=150)\n",
    "plt.title(\"Most common artists of Billboard Year-End Charts\")\n",
    "plt.xlabel(\"count\")\n",
    "\n",
    "df['artist'].value_counts().nlargest(10).sort_values().plot(kind = 'barh');"
   ]
  },
  {
   "cell_type": "markdown",
   "metadata": {},
   "source": [
    "*It is important to note that these counts are based on the artists being the main artist of their respective song. It does not take into account that the artists could be featured in a song with other singers.*"
   ]
  },
  {
   "cell_type": "markdown",
   "metadata": {},
   "source": [
    "Let's check what the highest ranking that these artists have ever obtained."
   ]
  },
  {
   "cell_type": "code",
   "execution_count": 303,
   "metadata": {},
   "outputs": [
    {
     "data": {
      "text/plain": [
       "artist\n",
       "Drake               1\n",
       "Elton John          1\n",
       "Mariah Carey        1\n",
       "The Beatles         1\n",
       "Usher               1\n",
       "Taylor Swift       11\n",
       "Janet Jackson      12\n",
       "Rihanna            12\n",
       "Madonna            13\n",
       "Michael Jackson    14\n",
       "Name: rank, dtype: object"
      ]
     },
     "execution_count": 303,
     "metadata": {},
     "output_type": "execute_result"
    }
   ],
   "source": [
    "# create list of the most common artists\n",
    "top_artists = ['Madonna','Rihanna','Mariah Carey','Drake','The Beatles',\n",
    "               'Elton John','Michael Jackson','Janet Jackson','Taylor Swift','Usher']\n",
    "\n",
    "# only extract rows in original dataframe that contains most common artists\n",
    "top_artists_df = df[df['artist'].isin(top_artists)]\n",
    "\n",
    "# grab highest ranking (minimum ranking in df) for each artist\n",
    "top_artists_df.groupby(['artist'])['rank'].min().sort_values()"
   ]
  },
  {
   "cell_type": "markdown",
   "metadata": {},
   "source": [
    "Half of these artists have achieved rank #1 in the history of Billboard Year-End charts. The other half are somewhat close, having earned at least top 14."
   ]
  },
  {
   "cell_type": "markdown",
   "metadata": {},
   "source": [
    "**How do songs that were performed solo compare to those performed by multiple artists?**"
   ]
  },
  {
   "cell_type": "markdown",
   "metadata": {},
   "source": [
    "The next thing I want to take a look at is to observe the percentage of songs that were performed solo by a single artist versus the percentage of songs that were performed with multiple artists."
   ]
  },
  {
   "cell_type": "code",
   "execution_count": 128,
   "metadata": {},
   "outputs": [
    {
     "data": {
      "text/plain": [
       "1221"
      ]
     },
     "execution_count": 128,
     "metadata": {},
     "output_type": "execute_result"
    }
   ],
   "source": [
    "# counts number of songs that don't have other performing artists \n",
    "# (in other words, count songs with a single performer)\n",
    "df[df['other artists'] != \"None\"][\"other artists\"].count()"
   ]
  },
  {
   "cell_type": "code",
   "execution_count": 175,
   "metadata": {},
   "outputs": [
    {
     "data": {
      "image/png": "[encoded data removed]",
      "text/plain": [
       "<Figure size 1800x600 with 1 Axes>"
      ]
     },
     "metadata": {},
     "output_type": "display_data"
    }
   ],
   "source": [
    "# percentage of songs performed by a single artist vs. multiple artists\n",
    "solo_artist = (df[df['other artists'] != \"None\"][\"other artists\"].count() / df.shape[0])\n",
    "multi_artist = (df[df['other artists'] == \"None\"][\"other artists\"].count() / df.shape[0])\n",
    "\n",
    "# percentages, labels, and colors for pie chart\n",
    "percentages = [solo_artist, multi_artist]\n",
    "my_labels = 'Solo singer', 'Multiple Singers'\n",
    "my_colors = ['powderblue','steelblue']\n",
    "\n",
    "# plot pie chart with percentages rounded to 1 decimal point\n",
    "plt.figure(figsize=(12,4),dpi=150)\n",
    "plt.pie(percentages, labels=my_labels, autopct='%1.1f%%', colors=my_colors)\n",
    "plt.title(\"Songs performed by amount of artists\")\n",
    "plt.axis('equal');"
   ]
  },
  {
   "cell_type": "markdown",
   "metadata": {},
   "source": [
    "Interestingly enough, the majority of the songs that appeared on the Billboard Year-End charts are those that were performed with multiple performers."
   ]
  },
  {
   "cell_type": "markdown",
   "metadata": {},
   "source": [
    "**Are there songs that have appeared most often on Billboard charts?**"
   ]
  },
  {
   "cell_type": "code",
   "execution_count": 314,
   "metadata": {},
   "outputs": [
    {
     "data": {
      "text/plain": [
       "artist               title                     \n",
       "3 Doors Down         Here Without You              2\n",
       "                     Kryptonite                    2\n",
       "5 Seconds of Summer  Youngblood                    2\n",
       "69 Boyz              Tootsee Roll                  2\n",
       "98 Degrees           Because of You                2\n",
       "Aaliyah              The One I Gave My Heart To    2\n",
       "Ace of Base          All That She Wants            2\n",
       "Adele                Hello                         2\n",
       "                     Rolling in the Deep           2\n",
       "Akon                 Smack That                    2\n",
       "dtype: int64"
      ]
     },
     "execution_count": 314,
     "metadata": {},
     "output_type": "execute_result"
    }
   ],
   "source": [
    "# group by artist first as there may be songs with the same title and performed by different artists,\n",
    "# then take the 10 most common songs\n",
    "df.groupby(['artist','title']).size().nlargest(10)"
   ]
  },
  {
   "cell_type": "markdown",
   "metadata": {},
   "source": [
    "Seems like the most amount of times that a song can occur on the Billboard Year-End charts is just 2. There isn't much else we can analyze from here, so let's move on."
   ]
  },
  {
   "cell_type": "markdown",
   "metadata": {},
   "source": [
    "# Part 3: Exploring the popularity field"
   ]
  },
  {
   "cell_type": "markdown",
   "metadata": {},
   "source": [
    "**What are the most and least popular songs?**"
   ]
  },
  {
   "cell_type": "code",
   "execution_count": 336,
   "metadata": {},
   "outputs": [
    {
     "data": {
      "text/html": [
       "<div>\n",
       "<style scoped>\n",
       "    .dataframe tbody tr th:only-of-type {\n",
       "        vertical-align: middle;\n",
       "    }\n",
       "\n",
       "    .dataframe tbody tr th {\n",
       "        vertical-align: top;\n",
       "    }\n",
       "\n",
       "    .dataframe thead th {\n",
       "        text-align: right;\n",
       "    }\n",
       "</style>\n",
       "<table border=\"1\" class=\"dataframe\">\n",
       "  <thead>\n",
       "    <tr style=\"text-align: right;\">\n",
       "      <th></th>\n",
       "      <th>title</th>\n",
       "      <th>artist</th>\n",
       "      <th>other artists</th>\n",
       "      <th>year</th>\n",
       "      <th>Popularity</th>\n",
       "    </tr>\n",
       "  </thead>\n",
       "  <tbody>\n",
       "    <tr>\n",
       "      <th>6044</th>\n",
       "      <td>Mood</td>\n",
       "      <td>24kGoldn</td>\n",
       "      <td>Iann Dior</td>\n",
       "      <td>2020</td>\n",
       "      <td>100</td>\n",
       "    </tr>\n",
       "    <tr>\n",
       "      <th>6064</th>\n",
       "      <td>All I Want for Christmas Is You</td>\n",
       "      <td>Mariah Carey</td>\n",
       "      <td>None</td>\n",
       "      <td>2020</td>\n",
       "      <td>99</td>\n",
       "    </tr>\n",
       "    <tr>\n",
       "      <th>5998</th>\n",
       "      <td>Blinding Lights</td>\n",
       "      <td>The Weeknd</td>\n",
       "      <td>None</td>\n",
       "      <td>2020</td>\n",
       "      <td>99</td>\n",
       "    </tr>\n",
       "    <tr>\n",
       "      <th>6021</th>\n",
       "      <td>WAP</td>\n",
       "      <td>Cardi B</td>\n",
       "      <td>Megan Thee Stallion</td>\n",
       "      <td>2020</td>\n",
       "      <td>95</td>\n",
       "    </tr>\n",
       "    <tr>\n",
       "      <th>6002</th>\n",
       "      <td>Rockstar</td>\n",
       "      <td>DaBaby</td>\n",
       "      <td>Roddy Ricch</td>\n",
       "      <td>2020</td>\n",
       "      <td>95</td>\n",
       "    </tr>\n",
       "    <tr>\n",
       "      <th>6035</th>\n",
       "      <td>Dynamite</td>\n",
       "      <td>BTS</td>\n",
       "      <td>None</td>\n",
       "      <td>2020</td>\n",
       "      <td>94</td>\n",
       "    </tr>\n",
       "    <tr>\n",
       "      <th>6046</th>\n",
       "      <td>For the Night</td>\n",
       "      <td>Pop Smoke</td>\n",
       "      <td>Lil Baby</td>\n",
       "      <td>2020</td>\n",
       "      <td>94</td>\n",
       "    </tr>\n",
       "    <tr>\n",
       "      <th>6017</th>\n",
       "      <td>Watermelon Sugar</td>\n",
       "      <td>Harry Styles</td>\n",
       "      <td>None</td>\n",
       "      <td>2020</td>\n",
       "      <td>94</td>\n",
       "    </tr>\n",
       "    <tr>\n",
       "      <th>6038</th>\n",
       "      <td>Laugh Now Cry Later</td>\n",
       "      <td>Drake</td>\n",
       "      <td>Lil Durk</td>\n",
       "      <td>2020</td>\n",
       "      <td>93</td>\n",
       "    </tr>\n",
       "    <tr>\n",
       "      <th>6040</th>\n",
       "      <td>Death Bed</td>\n",
       "      <td>Powfu</td>\n",
       "      <td>Beabadoobee</td>\n",
       "      <td>2020</td>\n",
       "      <td>92</td>\n",
       "    </tr>\n",
       "  </tbody>\n",
       "</table>\n",
       "</div>"
      ],
      "text/plain": [
       "                                title        artist        other artists  \\\n",
       "6044                             Mood      24kGoldn            Iann Dior   \n",
       "6064  All I Want for Christmas Is You  Mariah Carey                 None   \n",
       "5998                  Blinding Lights    The Weeknd                 None   \n",
       "6021                              WAP       Cardi B  Megan Thee Stallion   \n",
       "6002                         Rockstar        DaBaby          Roddy Ricch   \n",
       "6035                         Dynamite           BTS                 None   \n",
       "6046                    For the Night     Pop Smoke             Lil Baby   \n",
       "6017                 Watermelon Sugar  Harry Styles                 None   \n",
       "6038              Laugh Now Cry Later         Drake             Lil Durk   \n",
       "6040                        Death Bed         Powfu          Beabadoobee   \n",
       "\n",
       "      year  Popularity  \n",
       "6044  2020         100  \n",
       "6064  2020          99  \n",
       "5998  2020          99  \n",
       "6021  2020          95  \n",
       "6002  2020          95  \n",
       "6035  2020          94  \n",
       "6046  2020          94  \n",
       "6017  2020          94  \n",
       "6038  2020          93  \n",
       "6040  2020          92  "
      ]
     },
     "execution_count": 336,
     "metadata": {},
     "output_type": "execute_result"
    }
   ],
   "source": [
    "# most popular songs\n",
    "df[['title','artist','other artists','year','Popularity']].sort_values(by='Popularity', ascending=False).nlargest(10, 'Popularity')"
   ]
  },
  {
   "cell_type": "code",
   "execution_count": 4,
   "metadata": {},
   "outputs": [
    {
     "data": {
      "text/html": [
       "<div>\n",
       "<style scoped>\n",
       "    .dataframe tbody tr th:only-of-type {\n",
       "        vertical-align: middle;\n",
       "    }\n",
       "\n",
       "    .dataframe tbody tr th {\n",
       "        vertical-align: top;\n",
       "    }\n",
       "\n",
       "    .dataframe thead th {\n",
       "        text-align: right;\n",
       "    }\n",
       "</style>\n",
       "<table border=\"1\" class=\"dataframe\">\n",
       "  <thead>\n",
       "    <tr style=\"text-align: right;\">\n",
       "      <th></th>\n",
       "      <th>title</th>\n",
       "      <th>artist</th>\n",
       "      <th>other artists</th>\n",
       "      <th>year</th>\n",
       "      <th>Popularity</th>\n",
       "    </tr>\n",
       "  </thead>\n",
       "  <tbody>\n",
       "    <tr>\n",
       "      <th>1697</th>\n",
       "      <td>Disco Duck</td>\n",
       "      <td>Rick Dees</td>\n",
       "      <td>His Cast of Idiots</td>\n",
       "      <td>1976</td>\n",
       "      <td>0</td>\n",
       "    </tr>\n",
       "    <tr>\n",
       "      <th>456</th>\n",
       "      <td>Baby I Need Your Loving</td>\n",
       "      <td>The Four Tops</td>\n",
       "      <td>None</td>\n",
       "      <td>1964</td>\n",
       "      <td>0</td>\n",
       "    </tr>\n",
       "    <tr>\n",
       "      <th>1158</th>\n",
       "      <td>Sweet City Woman</td>\n",
       "      <td>The Stampeders</td>\n",
       "      <td>None</td>\n",
       "      <td>1971</td>\n",
       "      <td>0</td>\n",
       "    </tr>\n",
       "    <tr>\n",
       "      <th>3566</th>\n",
       "      <td>This Lil' Game We Play</td>\n",
       "      <td>Subway</td>\n",
       "      <td>702</td>\n",
       "      <td>1995</td>\n",
       "      <td>0</td>\n",
       "    </tr>\n",
       "    <tr>\n",
       "      <th>538</th>\n",
       "      <td>The Jolly Green Giant</td>\n",
       "      <td>The Kingsmen</td>\n",
       "      <td>None</td>\n",
       "      <td>1965</td>\n",
       "      <td>0</td>\n",
       "    </tr>\n",
       "    <tr>\n",
       "      <th>3093</th>\n",
       "      <td>Whole Wide World</td>\n",
       "      <td>A'Me Lorain</td>\n",
       "      <td>None</td>\n",
       "      <td>1990</td>\n",
       "      <td>0</td>\n",
       "    </tr>\n",
       "    <tr>\n",
       "      <th>3994</th>\n",
       "      <td>Music of My Heart</td>\n",
       "      <td>'N Sync</td>\n",
       "      <td>Gloria Estefan</td>\n",
       "      <td>1999</td>\n",
       "      <td>0</td>\n",
       "    </tr>\n",
       "    <tr>\n",
       "      <th>3106</th>\n",
       "      <td>I Like the Way (The Kissing Game)</td>\n",
       "      <td>Hi-Five</td>\n",
       "      <td>None</td>\n",
       "      <td>1991</td>\n",
       "      <td>0</td>\n",
       "    </tr>\n",
       "    <tr>\n",
       "      <th>2499</th>\n",
       "      <td>Careless Whisper</td>\n",
       "      <td>Wham!</td>\n",
       "      <td>None</td>\n",
       "      <td>1985</td>\n",
       "      <td>0</td>\n",
       "    </tr>\n",
       "    <tr>\n",
       "      <th>980</th>\n",
       "      <td>Tracy</td>\n",
       "      <td>The Cuff Links</td>\n",
       "      <td>None</td>\n",
       "      <td>1969</td>\n",
       "      <td>0</td>\n",
       "    </tr>\n",
       "  </tbody>\n",
       "</table>\n",
       "</div>"
      ],
      "text/plain": [
       "                                  title          artist       other artists  \\\n",
       "1697                         Disco Duck       Rick Dees  His Cast of Idiots   \n",
       "456             Baby I Need Your Loving   The Four Tops                None   \n",
       "1158                   Sweet City Woman  The Stampeders                None   \n",
       "3566             This Lil' Game We Play          Subway                 702   \n",
       "538               The Jolly Green Giant    The Kingsmen                None   \n",
       "3093                   Whole Wide World     A'Me Lorain                None   \n",
       "3994                  Music of My Heart         'N Sync      Gloria Estefan   \n",
       "3106  I Like the Way (The Kissing Game)         Hi-Five                None   \n",
       "2499                   Careless Whisper           Wham!                None   \n",
       "980                               Tracy  The Cuff Links                None   \n",
       "\n",
       "      year  Popularity  \n",
       "1697  1976           0  \n",
       "456   1964           0  \n",
       "1158  1971           0  \n",
       "3566  1995           0  \n",
       "538   1965           0  \n",
       "3093  1990           0  \n",
       "3994  1999           0  \n",
       "3106  1991           0  \n",
       "2499  1985           0  \n",
       "980   1969           0  "
      ]
     },
     "execution_count": 4,
     "metadata": {},
     "output_type": "execute_result"
    }
   ],
   "source": [
    "# least popular songs\n",
    "df[['title','artist','other artists','year','Popularity']].sort_values(by='Popularity', ascending=False).nsmallest(10, 'Popularity')"
   ]
  },
  {
   "cell_type": "markdown",
   "metadata": {},
   "source": [
    "**How does popularity of songs change by year?**"
   ]
  },
  {
   "cell_type": "code",
   "execution_count": 6,
   "metadata": {},
   "outputs": [
    {
     "data": {
      "image/png": "[encoded data removed]",
      "text/plain": [
       "<Figure size 1800x600 with 1 Axes>"
      ]
     },
     "metadata": {
      "needs_background": "light"
     },
     "output_type": "display_data"
    }
   ],
   "source": [
    "plt.figure(figsize=(12,4),dpi=150)\n",
    "\n",
    "# barplot of popularity by year\n",
    "sns.barplot(data = df, x='year', y='Popularity')\n",
    "\n",
    "# set y limits\n",
    "plt.ylim(0,100)\n",
    "\n",
    "# rotate labels on x-axis to be vertical\n",
    "plt.xticks(rotation=90);"
   ]
  },
  {
   "cell_type": "markdown",
   "metadata": {},
   "source": [
    "From the barplot above, we can see that songs generally get more popular as the year increases. \n",
    "\n",
    "**Key points to make:**\n",
    "\n",
    "First, it looks like the most popular songs were those that appeared on the Billboard charts for 2020. This makes sense as the data was extracted around the time that Billboard released their 2020 Year-End chart, and the measure of the Popularity field is based on how popular the song was at the time the data was extracted.\n",
    "\n",
    "Second, the least popular songs were those that appeared on older Billboard charts, mainly in years before 2000. Again, based on the date of when the data was extracted, we expect that older songs will not be as popular as newly released songs.\n",
    "\n",
    "Since the data was extracted near 2020, we will focus on exploring the popularity of songs that appeared in the 2020 Year-End chart. We will then see if there how popularity is distributed among these songs."
   ]
  },
  {
   "cell_type": "markdown",
   "metadata": {},
   "source": [
    "**Does Billboard's 2020 Year-End chart really take into account of a song's popularity for rankings?**"
   ]
  },
  {
   "cell_type": "code",
   "execution_count": 426,
   "metadata": {},
   "outputs": [
    {
     "data": {
      "image/png": "[encoded data removed]",
      "text/plain": [
       "<Figure size 1800x600 with 1 Axes>"
      ]
     },
     "metadata": {
      "needs_background": "light"
     },
     "output_type": "display_data"
    }
   ],
   "source": [
    "# Histogram of popularity of songs for chart year 2020\n",
    "plt.figure(figsize=(12,4),dpi=150)\n",
    "\n",
    "sns.histplot(data = df[df['year'] == 2020], x='Popularity');"
   ]
  },
  {
   "cell_type": "markdown",
   "metadata": {},
   "source": [
    "A lot of these songs are quite popular! The lowest popularity score is only in the 70s. It may seem like Billboard really does take into account of a song's popularity for ranking songs that appear in their charts. Out of curiosity, let's see which songs were the most and least popular of 2020."
   ]
  },
  {
   "cell_type": "code",
   "execution_count": 367,
   "metadata": {},
   "outputs": [
    {
     "data": {
      "text/html": [
       "<div>\n",
       "<style scoped>\n",
       "    .dataframe tbody tr th:only-of-type {\n",
       "        vertical-align: middle;\n",
       "    }\n",
       "\n",
       "    .dataframe tbody tr th {\n",
       "        vertical-align: top;\n",
       "    }\n",
       "\n",
       "    .dataframe thead th {\n",
       "        text-align: right;\n",
       "    }\n",
       "</style>\n",
       "<table border=\"1\" class=\"dataframe\">\n",
       "  <thead>\n",
       "    <tr style=\"text-align: right;\">\n",
       "      <th></th>\n",
       "      <th>rank</th>\n",
       "      <th>title</th>\n",
       "      <th>artist</th>\n",
       "      <th>Popularity</th>\n",
       "    </tr>\n",
       "  </thead>\n",
       "  <tbody>\n",
       "    <tr>\n",
       "      <th>6044</th>\n",
       "      <td>47</td>\n",
       "      <td>Mood</td>\n",
       "      <td>24kGoldn</td>\n",
       "      <td>100</td>\n",
       "    </tr>\n",
       "    <tr>\n",
       "      <th>5998</th>\n",
       "      <td>1</td>\n",
       "      <td>Blinding Lights</td>\n",
       "      <td>The Weeknd</td>\n",
       "      <td>99</td>\n",
       "    </tr>\n",
       "    <tr>\n",
       "      <th>6064</th>\n",
       "      <td>67</td>\n",
       "      <td>All I Want for Christmas Is You</td>\n",
       "      <td>Mariah Carey</td>\n",
       "      <td>99</td>\n",
       "    </tr>\n",
       "    <tr>\n",
       "      <th>6002</th>\n",
       "      <td>5</td>\n",
       "      <td>Rockstar</td>\n",
       "      <td>DaBaby</td>\n",
       "      <td>95</td>\n",
       "    </tr>\n",
       "    <tr>\n",
       "      <th>6021</th>\n",
       "      <td>24</td>\n",
       "      <td>WAP</td>\n",
       "      <td>Cardi B</td>\n",
       "      <td>95</td>\n",
       "    </tr>\n",
       "    <tr>\n",
       "      <th>6017</th>\n",
       "      <td>20</td>\n",
       "      <td>Watermelon Sugar</td>\n",
       "      <td>Harry Styles</td>\n",
       "      <td>94</td>\n",
       "    </tr>\n",
       "    <tr>\n",
       "      <th>6046</th>\n",
       "      <td>49</td>\n",
       "      <td>For the Night</td>\n",
       "      <td>Pop Smoke</td>\n",
       "      <td>94</td>\n",
       "    </tr>\n",
       "    <tr>\n",
       "      <th>6035</th>\n",
       "      <td>38</td>\n",
       "      <td>Dynamite</td>\n",
       "      <td>BTS</td>\n",
       "      <td>94</td>\n",
       "    </tr>\n",
       "    <tr>\n",
       "      <th>6038</th>\n",
       "      <td>41</td>\n",
       "      <td>Laugh Now Cry Later</td>\n",
       "      <td>Drake</td>\n",
       "      <td>93</td>\n",
       "    </tr>\n",
       "    <tr>\n",
       "      <th>6040</th>\n",
       "      <td>43</td>\n",
       "      <td>Death Bed</td>\n",
       "      <td>Powfu</td>\n",
       "      <td>92</td>\n",
       "    </tr>\n",
       "  </tbody>\n",
       "</table>\n",
       "</div>"
      ],
      "text/plain": [
       "     rank                            title        artist  Popularity\n",
       "6044   47                             Mood      24kGoldn         100\n",
       "5998    1                  Blinding Lights    The Weeknd          99\n",
       "6064   67  All I Want for Christmas Is You  Mariah Carey          99\n",
       "6002    5                         Rockstar        DaBaby          95\n",
       "6021   24                              WAP       Cardi B          95\n",
       "6017   20                 Watermelon Sugar  Harry Styles          94\n",
       "6046   49                    For the Night     Pop Smoke          94\n",
       "6035   38                         Dynamite           BTS          94\n",
       "6038   41              Laugh Now Cry Later         Drake          93\n",
       "6040   43                        Death Bed         Powfu          92"
      ]
     },
     "execution_count": 367,
     "metadata": {},
     "output_type": "execute_result"
    }
   ],
   "source": [
    "# most popular songs of 2020\n",
    "df[df['year'] == 2020].sort_values('Popularity', ascending=False).head(10)[['rank','title','artist','Popularity']]"
   ]
  },
  {
   "cell_type": "code",
   "execution_count": 368,
   "metadata": {},
   "outputs": [
    {
     "data": {
      "text/html": [
       "<div>\n",
       "<style scoped>\n",
       "    .dataframe tbody tr th:only-of-type {\n",
       "        vertical-align: middle;\n",
       "    }\n",
       "\n",
       "    .dataframe tbody tr th {\n",
       "        vertical-align: top;\n",
       "    }\n",
       "\n",
       "    .dataframe thead th {\n",
       "        text-align: right;\n",
       "    }\n",
       "</style>\n",
       "<table border=\"1\" class=\"dataframe\">\n",
       "  <thead>\n",
       "    <tr style=\"text-align: right;\">\n",
       "      <th></th>\n",
       "      <th>rank</th>\n",
       "      <th>title</th>\n",
       "      <th>artist</th>\n",
       "      <th>Popularity</th>\n",
       "    </tr>\n",
       "  </thead>\n",
       "  <tbody>\n",
       "    <tr>\n",
       "      <th>6070</th>\n",
       "      <td>73</td>\n",
       "      <td>I Hope You're Happy Now</td>\n",
       "      <td>Carly Pearce</td>\n",
       "      <td>75</td>\n",
       "    </tr>\n",
       "    <tr>\n",
       "      <th>6095</th>\n",
       "      <td>98</td>\n",
       "      <td>Said Sum</td>\n",
       "      <td>Moneybagg Yo</td>\n",
       "      <td>75</td>\n",
       "    </tr>\n",
       "    <tr>\n",
       "      <th>6049</th>\n",
       "      <td>52</td>\n",
       "      <td>Nobody but You</td>\n",
       "      <td>Blake Shelton</td>\n",
       "      <td>74</td>\n",
       "    </tr>\n",
       "    <tr>\n",
       "      <th>6062</th>\n",
       "      <td>65</td>\n",
       "      <td>Die from a Broken Heart</td>\n",
       "      <td>Maddie</td>\n",
       "      <td>74</td>\n",
       "    </tr>\n",
       "    <tr>\n",
       "      <th>6066</th>\n",
       "      <td>69</td>\n",
       "      <td>Hard to Forget</td>\n",
       "      <td>Sam Hunt</td>\n",
       "      <td>74</td>\n",
       "    </tr>\n",
       "    <tr>\n",
       "      <th>6088</th>\n",
       "      <td>91</td>\n",
       "      <td>Bluebird</td>\n",
       "      <td>Miranda Lambert</td>\n",
       "      <td>73</td>\n",
       "    </tr>\n",
       "    <tr>\n",
       "      <th>6090</th>\n",
       "      <td>93</td>\n",
       "      <td>Does to Me</td>\n",
       "      <td>Luke Combs</td>\n",
       "      <td>73</td>\n",
       "    </tr>\n",
       "    <tr>\n",
       "      <th>6086</th>\n",
       "      <td>89</td>\n",
       "      <td>Homesick</td>\n",
       "      <td>Kane Brown</td>\n",
       "      <td>72</td>\n",
       "    </tr>\n",
       "    <tr>\n",
       "      <th>6067</th>\n",
       "      <td>70</td>\n",
       "      <td>One Margarita</td>\n",
       "      <td>Luke Bryan</td>\n",
       "      <td>72</td>\n",
       "    </tr>\n",
       "    <tr>\n",
       "      <th>6050</th>\n",
       "      <td>53</td>\n",
       "      <td>Trampoline</td>\n",
       "      <td>Shaed</td>\n",
       "      <td>71</td>\n",
       "    </tr>\n",
       "  </tbody>\n",
       "</table>\n",
       "</div>"
      ],
      "text/plain": [
       "     rank                    title           artist  Popularity\n",
       "6070   73  I Hope You're Happy Now     Carly Pearce          75\n",
       "6095   98                 Said Sum     Moneybagg Yo          75\n",
       "6049   52           Nobody but You    Blake Shelton          74\n",
       "6062   65  Die from a Broken Heart           Maddie          74\n",
       "6066   69           Hard to Forget         Sam Hunt          74\n",
       "6088   91                 Bluebird  Miranda Lambert          73\n",
       "6090   93               Does to Me       Luke Combs          73\n",
       "6086   89                 Homesick       Kane Brown          72\n",
       "6067   70            One Margarita       Luke Bryan          72\n",
       "6050   53               Trampoline            Shaed          71"
      ]
     },
     "execution_count": 368,
     "metadata": {},
     "output_type": "execute_result"
    }
   ],
   "source": [
    "# least popular songs of 2020\n",
    "df[df['year'] == 2020].sort_values('Popularity', ascending=False).tail(10)[['rank','title','artist','Popularity']]"
   ]
  },
  {
   "cell_type": "markdown",
   "metadata": {},
   "source": [
    "**What is the correlation between ranking and popularity?**"
   ]
  },
  {
   "cell_type": "markdown",
   "metadata": {},
   "source": [
    "One more thing I'd like to explore is if there is some association between the popularity of a song and the rank it gets on the Billboard charts. Since the popularity field is largely determined by when the data was pulled, it would make most sense to just limit our observation to the 2020 Year-End chart."
   ]
  },
  {
   "cell_type": "code",
   "execution_count": 436,
   "metadata": {},
   "outputs": [
    {
     "data": {
      "image/png": "[encoded data removed]",
      "text/plain": [
       "<Figure size 900x450 with 1 Axes>"
      ]
     },
     "metadata": {
      "needs_background": "light"
     },
     "output_type": "display_data"
    }
   ],
   "source": [
    "plt.figure(figsize=(6,3),dpi=150)\n",
    "\n",
    "# scatterplot between rank and popularity for year 2020\n",
    "sns.scatterplot(x=df['rank'],y='Popularity',data=df[df['year'] == 2020])\n",
    "\n",
    "# set x-ticks so they don't get cluttered\n",
    "plt.xticks([0,9,19,29,39,49,59,69,79,89,99])\n",
    "\n",
    "# inverting the x-axis\n",
    "plt.xlim(reversed(plt.xlim()));"
   ]
  },
  {
   "cell_type": "code",
   "execution_count": 5,
   "metadata": {},
   "outputs": [
    {
     "data": {
      "text/plain": [
       "0.49"
      ]
     },
     "execution_count": 5,
     "metadata": {},
     "output_type": "execute_result"
    }
   ],
   "source": [
    "# correlation coefficient between ranking and popularity\n",
    "round(abs(df[df['year'] == 2020]['rank'].corr(df[df['year'] == 2020]['Popularity'])),2)"
   ]
  },
  {
   "cell_type": "markdown",
   "metadata": {},
   "source": [
    "With a correlation coefficient of `r = 0.49`, there is a moderately strong relationship between the popularity of a song and how high it ranks on the Billboard Year-End charts. That is, the higher popularity a song is, the higher rank it is on the chart.\n",
    "\n",
    "Popularity may more or less determine how high a song can rank, but keep in mind that Billboard has other factors that determine a song's ranking such as its sales and radioplay. I would say that popularity does have some role on affecting how high a song will rank on the chart."
   ]
  },
  {
   "cell_type": "markdown",
   "metadata": {},
   "source": [
    "# Part 4: Exploring the audio features"
   ]
  },
  {
   "cell_type": "markdown",
   "metadata": {},
   "source": [
    "Let's explore the audio features of each Billboard song and see how they are distributed and if they have any correlations with other fields."
   ]
  },
  {
   "cell_type": "markdown",
   "metadata": {},
   "source": [
    "**How are audio features correlated with themselves and with year/rank?**"
   ]
  },
  {
   "cell_type": "code",
   "execution_count": 57,
   "metadata": {
    "scrolled": false
   },
   "outputs": [
    {
     "data": {
      "text/html": [
       "<div>\n",
       "<style scoped>\n",
       "    .dataframe tbody tr th:only-of-type {\n",
       "        vertical-align: middle;\n",
       "    }\n",
       "\n",
       "    .dataframe tbody tr th {\n",
       "        vertical-align: top;\n",
       "    }\n",
       "\n",
       "    .dataframe thead th {\n",
       "        text-align: right;\n",
       "    }\n",
       "</style>\n",
       "<table border=\"1\" class=\"dataframe\">\n",
       "  <thead>\n",
       "    <tr style=\"text-align: right;\">\n",
       "      <th></th>\n",
       "      <th>danceability</th>\n",
       "      <th>energy</th>\n",
       "      <th>key</th>\n",
       "      <th>loudness</th>\n",
       "      <th>mode</th>\n",
       "      <th>speechiness</th>\n",
       "      <th>acousticness</th>\n",
       "      <th>instrumentalness</th>\n",
       "      <th>liveness</th>\n",
       "      <th>valence</th>\n",
       "      <th>tempo</th>\n",
       "      <th>duration</th>\n",
       "      <th>time_signature</th>\n",
       "    </tr>\n",
       "  </thead>\n",
       "  <tbody>\n",
       "    <tr>\n",
       "      <th>0</th>\n",
       "      <td>0.326</td>\n",
       "      <td>0.3260</td>\n",
       "      <td>0</td>\n",
       "      <td>-15.144</td>\n",
       "      <td>1</td>\n",
       "      <td>0.0297</td>\n",
       "      <td>0.591</td>\n",
       "      <td>0.918000</td>\n",
       "      <td>0.494</td>\n",
       "      <td>0.870</td>\n",
       "      <td>186.232</td>\n",
       "      <td>2.38</td>\n",
       "      <td>3</td>\n",
       "    </tr>\n",
       "    <tr>\n",
       "      <th>1</th>\n",
       "      <td>0.469</td>\n",
       "      <td>0.2440</td>\n",
       "      <td>1</td>\n",
       "      <td>-15.702</td>\n",
       "      <td>1</td>\n",
       "      <td>0.0357</td>\n",
       "      <td>0.974</td>\n",
       "      <td>0.016200</td>\n",
       "      <td>0.845</td>\n",
       "      <td>0.577</td>\n",
       "      <td>88.271</td>\n",
       "      <td>2.24</td>\n",
       "      <td>3</td>\n",
       "    </tr>\n",
       "    <tr>\n",
       "      <th>2</th>\n",
       "      <td>0.498</td>\n",
       "      <td>0.5820</td>\n",
       "      <td>7</td>\n",
       "      <td>-8.961</td>\n",
       "      <td>1</td>\n",
       "      <td>0.0339</td>\n",
       "      <td>0.412</td>\n",
       "      <td>0.000000</td>\n",
       "      <td>0.372</td>\n",
       "      <td>0.866</td>\n",
       "      <td>119.809</td>\n",
       "      <td>2.40</td>\n",
       "      <td>4</td>\n",
       "    </tr>\n",
       "    <tr>\n",
       "      <th>3</th>\n",
       "      <td>0.772</td>\n",
       "      <td>0.2970</td>\n",
       "      <td>5</td>\n",
       "      <td>-14.679</td>\n",
       "      <td>0</td>\n",
       "      <td>0.0530</td>\n",
       "      <td>0.854</td>\n",
       "      <td>0.000008</td>\n",
       "      <td>0.125</td>\n",
       "      <td>0.822</td>\n",
       "      <td>119.987</td>\n",
       "      <td>2.64</td>\n",
       "      <td>4</td>\n",
       "    </tr>\n",
       "    <tr>\n",
       "      <th>4</th>\n",
       "      <td>0.570</td>\n",
       "      <td>0.0636</td>\n",
       "      <td>0</td>\n",
       "      <td>-18.548</td>\n",
       "      <td>1</td>\n",
       "      <td>0.0459</td>\n",
       "      <td>0.936</td>\n",
       "      <td>0.000000</td>\n",
       "      <td>0.122</td>\n",
       "      <td>0.282</td>\n",
       "      <td>101.517</td>\n",
       "      <td>2.66</td>\n",
       "      <td>4</td>\n",
       "    </tr>\n",
       "  </tbody>\n",
       "</table>\n",
       "</div>"
      ],
      "text/plain": [
       "   danceability  energy  key  loudness  mode  speechiness  acousticness  \\\n",
       "0         0.326  0.3260    0   -15.144     1       0.0297         0.591   \n",
       "1         0.469  0.2440    1   -15.702     1       0.0357         0.974   \n",
       "2         0.498  0.5820    7    -8.961     1       0.0339         0.412   \n",
       "3         0.772  0.2970    5   -14.679     0       0.0530         0.854   \n",
       "4         0.570  0.0636    0   -18.548     1       0.0459         0.936   \n",
       "\n",
       "   instrumentalness  liveness  valence    tempo  duration  time_signature  \n",
       "0          0.918000     0.494    0.870  186.232      2.38               3  \n",
       "1          0.016200     0.845    0.577   88.271      2.24               3  \n",
       "2          0.000000     0.372    0.866  119.809      2.40               4  \n",
       "3          0.000008     0.125    0.822  119.987      2.64               4  \n",
       "4          0.000000     0.122    0.282  101.517      2.66               4  "
      ]
     },
     "execution_count": 57,
     "metadata": {},
     "output_type": "execute_result"
    }
   ],
   "source": [
    "# create dataframe with only the audio feature fields\n",
    "features_df = df.copy().iloc[:,7:]\n",
    "\n",
    "# convert duration from seconds to minutes\n",
    "features_df['duration'] = round(df['duration'] / 60,2)\n",
    "\n",
    "features_df.head()"
   ]
  },
  {
   "cell_type": "code",
   "execution_count": 82,
   "metadata": {},
   "outputs": [
    {
     "data": {
      "image/png": "[encoded data removed]",
      "text/plain": [
       "<Figure size 1080x360 with 4 Axes>"
      ]
     },
     "metadata": {
      "needs_background": "light"
     },
     "output_type": "display_data"
    }
   ],
   "source": [
    "# setting up the subplots\n",
    "fig, axes = plt.subplots(nrows=1, ncols=2, figsize=(15, 5))\n",
    "fig.subplots_adjust(wspace=0.3) # adjust width space between plots\n",
    "\n",
    "# main title\n",
    "fig.suptitle('HEATMAPS OF CORRELATIONS AMONG AUDIO FEATURES', fontsize=16, fontweight='bold')\n",
    "axes[0].set_title('Features and Year')\n",
    "axes[1].set_title('Features and Rank')\n",
    "\n",
    "\n",
    "# create dataframes for audio features vs. year/ranking\n",
    "year_features = pd.concat([features_df, df['year']], axis=1)\n",
    "rank_features = pd.concat([features_df, df['rank']], axis=1)\n",
    "\n",
    "# plotting heatmaps\n",
    "sns.heatmap(ax=axes[0],data=year_features.corr(), cmap='Spectral')\n",
    "sns.heatmap(ax=axes[1],data=rank_features.corr(), cmap='Spectral');"
   ]
  },
  {
   "cell_type": "markdown",
   "metadata": {},
   "source": [
    "**Key takeaways from audio features versus other audio features:**\n",
    "- Strongest correlations occur with energy vs. loudness, where songs with higher energy are generally associated with songs with higher loudness.\n",
    "- Moderate correlations occur with valence vs. danceability, and valence vs. energy.\n",
    "- All other correlations have weak correlations.\n",
    "\n",
    "**Comparing audio features versus year:**\n",
    "- The only features with (moderately) strong positive correlations with year are loudness, energy, and danceability. That is, as the year increases, music tends to be more loud, energetic, and have higher danceability to their songs.\n",
    "- One feature, acousticness, seems to have the lowest correlation with year. As the year increases, songs somewhat tend to have less of an acoustic style to them.\n",
    "\n",
    "**Comparing audio features versus rankings:**\n",
    "- There are no correlations whatsoever between the features of a song versus ranking. It seems like the characteristics of songs have no affect on how they get ranked on the Billboard charts."
   ]
  },
  {
   "cell_type": "markdown",
   "metadata": {},
   "source": [
    "## Distribution of audio features"
   ]
  },
  {
   "cell_type": "markdown",
   "metadata": {},
   "source": [
    "**What audio features are most common? How are they all distributed?**"
   ]
  },
  {
   "cell_type": "code",
   "execution_count": 83,
   "metadata": {},
   "outputs": [
    {
     "data": {
      "text/html": [
       "<div>\n",
       "<style scoped>\n",
       "    .dataframe tbody tr th:only-of-type {\n",
       "        vertical-align: middle;\n",
       "    }\n",
       "\n",
       "    .dataframe tbody tr th {\n",
       "        vertical-align: top;\n",
       "    }\n",
       "\n",
       "    .dataframe thead th {\n",
       "        text-align: right;\n",
       "    }\n",
       "</style>\n",
       "<table border=\"1\" class=\"dataframe\">\n",
       "  <thead>\n",
       "    <tr style=\"text-align: right;\">\n",
       "      <th></th>\n",
       "      <th>danceability</th>\n",
       "      <th>energy</th>\n",
       "      <th>key</th>\n",
       "      <th>loudness</th>\n",
       "      <th>mode</th>\n",
       "      <th>speechiness</th>\n",
       "      <th>acousticness</th>\n",
       "      <th>instrumentalness</th>\n",
       "      <th>liveness</th>\n",
       "      <th>valence</th>\n",
       "      <th>tempo</th>\n",
       "      <th>duration</th>\n",
       "      <th>time_signature</th>\n",
       "    </tr>\n",
       "  </thead>\n",
       "  <tbody>\n",
       "    <tr>\n",
       "      <th>0</th>\n",
       "      <td>0.326</td>\n",
       "      <td>0.3260</td>\n",
       "      <td>0</td>\n",
       "      <td>-15.144</td>\n",
       "      <td>1</td>\n",
       "      <td>0.0297</td>\n",
       "      <td>0.591</td>\n",
       "      <td>0.918000</td>\n",
       "      <td>0.494</td>\n",
       "      <td>0.870</td>\n",
       "      <td>186.232</td>\n",
       "      <td>2.38</td>\n",
       "      <td>3</td>\n",
       "    </tr>\n",
       "    <tr>\n",
       "      <th>1</th>\n",
       "      <td>0.469</td>\n",
       "      <td>0.2440</td>\n",
       "      <td>1</td>\n",
       "      <td>-15.702</td>\n",
       "      <td>1</td>\n",
       "      <td>0.0357</td>\n",
       "      <td>0.974</td>\n",
       "      <td>0.016200</td>\n",
       "      <td>0.845</td>\n",
       "      <td>0.577</td>\n",
       "      <td>88.271</td>\n",
       "      <td>2.24</td>\n",
       "      <td>3</td>\n",
       "    </tr>\n",
       "    <tr>\n",
       "      <th>2</th>\n",
       "      <td>0.498</td>\n",
       "      <td>0.5820</td>\n",
       "      <td>7</td>\n",
       "      <td>-8.961</td>\n",
       "      <td>1</td>\n",
       "      <td>0.0339</td>\n",
       "      <td>0.412</td>\n",
       "      <td>0.000000</td>\n",
       "      <td>0.372</td>\n",
       "      <td>0.866</td>\n",
       "      <td>119.809</td>\n",
       "      <td>2.40</td>\n",
       "      <td>4</td>\n",
       "    </tr>\n",
       "    <tr>\n",
       "      <th>3</th>\n",
       "      <td>0.772</td>\n",
       "      <td>0.2970</td>\n",
       "      <td>5</td>\n",
       "      <td>-14.679</td>\n",
       "      <td>0</td>\n",
       "      <td>0.0530</td>\n",
       "      <td>0.854</td>\n",
       "      <td>0.000008</td>\n",
       "      <td>0.125</td>\n",
       "      <td>0.822</td>\n",
       "      <td>119.987</td>\n",
       "      <td>2.64</td>\n",
       "      <td>4</td>\n",
       "    </tr>\n",
       "    <tr>\n",
       "      <th>4</th>\n",
       "      <td>0.570</td>\n",
       "      <td>0.0636</td>\n",
       "      <td>0</td>\n",
       "      <td>-18.548</td>\n",
       "      <td>1</td>\n",
       "      <td>0.0459</td>\n",
       "      <td>0.936</td>\n",
       "      <td>0.000000</td>\n",
       "      <td>0.122</td>\n",
       "      <td>0.282</td>\n",
       "      <td>101.517</td>\n",
       "      <td>2.66</td>\n",
       "      <td>4</td>\n",
       "    </tr>\n",
       "  </tbody>\n",
       "</table>\n",
       "</div>"
      ],
      "text/plain": [
       "   danceability  energy  key  loudness  mode  speechiness  acousticness  \\\n",
       "0         0.326  0.3260    0   -15.144     1       0.0297         0.591   \n",
       "1         0.469  0.2440    1   -15.702     1       0.0357         0.974   \n",
       "2         0.498  0.5820    7    -8.961     1       0.0339         0.412   \n",
       "3         0.772  0.2970    5   -14.679     0       0.0530         0.854   \n",
       "4         0.570  0.0636    0   -18.548     1       0.0459         0.936   \n",
       "\n",
       "   instrumentalness  liveness  valence    tempo  duration  time_signature  \n",
       "0          0.918000     0.494    0.870  186.232      2.38               3  \n",
       "1          0.016200     0.845    0.577   88.271      2.24               3  \n",
       "2          0.000000     0.372    0.866  119.809      2.40               4  \n",
       "3          0.000008     0.125    0.822  119.987      2.64               4  \n",
       "4          0.000000     0.122    0.282  101.517      2.66               4  "
      ]
     },
     "execution_count": 83,
     "metadata": {},
     "output_type": "execute_result"
    }
   ],
   "source": [
    "features_df.head()"
   ]
  },
  {
   "cell_type": "code",
   "execution_count": 92,
   "metadata": {},
   "outputs": [
    {
     "data": {
      "image/png": "[encoded data removed]",
      "text/plain": [
       "<Figure size 1224x720 with 16 Axes>"
      ]
     },
     "metadata": {
      "needs_background": "light"
     },
     "output_type": "display_data"
    }
   ],
   "source": [
    "fig, axes = plt.subplots(nrows=4, ncols=4, figsize=(17, 10), sharex=True)"
   ]
  },
  {
   "cell_type": "code",
   "execution_count": null,
   "metadata": {},
   "outputs": [],
   "source": []
  }
 ],
 "metadata": {
  "kernelspec": {
   "display_name": "Python 3",
   "language": "python",
   "name": "python3"
  },
  "language_info": {
   "codemirror_mode": {
    "name": "ipython",
    "version": 3
   },
   "file_extension": ".py",
   "mimetype": "text/x-python",
   "name": "python",
   "nbconvert_exporter": "python",
   "pygments_lexer": "ipython3",
   "version": "3.7.6"
  }
 },
 "nbformat": 4,
 "nbformat_minor": 4
}
